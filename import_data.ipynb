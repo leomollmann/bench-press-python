{
 "cells": [
  {
   "cell_type": "code",
   "execution_count": 1,
   "metadata": {},
   "outputs": [],
   "source": [
    "from DBEngine import db_engine"
   ]
  },
  {
   "cell_type": "code",
   "execution_count": 9,
   "metadata": {},
   "outputs": [],
   "source": [
    "def parse_entry(entry):\n",
    "  o = dict()\n",
    "  o['id'] = entry['_id']\n",
    "  o['amenities'] = entry['amenityIds']\n",
    "  o['brand'] = entry['brandCode']\n",
    "  o['name'] = entry['name']\n",
    "  o['address'] = entry['address']['addressLine1']\n",
    "  o['city'] = entry['address']['city']\n",
    "  o['country'] = entry['address']['country']\n",
    "  o['state'] = entry['address']['state']\n",
    "  o['lat'] = entry['localization']['coordinate']['latitude']\n",
    "  o['lon'] = entry['localization']['coordinate']['longitude']\n",
    "  o['master_image_text'] = entry['masterImage']['altText']\n",
    "  o['master_image'] = entry['masterImage']['variants'][2]['url']\n",
    "  o['images'] = [x['variants'][2]['url'] for x in entry['images']['carousel']]\n",
    "  if entry['tripAdvisorLocationSummary'] is not None:\n",
    "    o['review_number'] = entry['tripAdvisorLocationSummary']['numReviews']\n",
    "    o['review_avg'] = entry['tripAdvisorLocationSummary']['rating']\n",
    "  else:\n",
    "    o['review_number'] = None\n",
    "    o['review_avg'] = None\n",
    "\n",
    "  if entry['leadRate'] is not None:\n",
    "    o['disaplay_price'] = entry['leadRate']['lowest']['rateAmount']\n",
    "    if entry['leadRate']['hhonors'] is not None:\n",
    "      o['max_price'] = entry['leadRate']['hhonors']['max']['rateAmount']\n",
    "      o['min_price'] = entry['leadRate']['hhonors']['min']['rateAmount']\n",
    "    else:\n",
    "      o['max_price'] = None\n",
    "      o['min_price'] = None\n",
    "  else:\n",
    "    o['disaplay_price'] = None\n",
    "    o['max_price'] = None\n",
    "    o['min_price'] = None\n",
    "\n",
    "  return o"
   ]
  },
  {
   "cell_type": "code",
   "execution_count": 6,
   "metadata": {},
   "outputs": [],
   "source": [
    "import json\n",
    "\n",
    "def load_batch(n):\n",
    "  f = open(f\"responses/r{n}.json\")\n",
    "  data = json.load(f)\n",
    "\n",
    "  data = data[\"data\"][\"hotelSummaryOptions\"][\"hotels\"]\n",
    "\n",
    "  entries = [parse_entry(e) for e in data]\n",
    "\n",
    "  def command(cursor): \n",
    "    cursor.executemany(\"insert into hotels values (%(id)s, %(amenities)s, %(brand)s, %(name)s, %(address)s, %(city)s, %(country)s, %(state)s, ST_SetSRID(ST_Point(%(lon)s,%(lat)s),4326), %(master_image_text)s, %(master_image)s, %(images)s, %(review_number)s, %(review_avg)s, %(disaplay_price)s, %(max_price)s, %(min_price)s)\", entries)\n",
    "  \n",
    "  db_engine.execute(command)\n",
    "  db_engine.commit()"
   ]
  },
  {
   "cell_type": "code",
   "execution_count": 10,
   "metadata": {},
   "outputs": [
    {
     "name": "stdout",
     "output_type": "stream",
     "text": [
      "15\n"
     ]
    }
   ],
   "source": [
    "for i in range(0, 16):\n",
    "  print(i)\n",
    "  load_batch(i)"
   ]
  }
 ],
 "metadata": {
  "kernelspec": {
   "display_name": "base",
   "language": "python",
   "name": "python3"
  },
  "language_info": {
   "codemirror_mode": {
    "name": "ipython",
    "version": 3
   },
   "file_extension": ".py",
   "mimetype": "text/x-python",
   "name": "python",
   "nbconvert_exporter": "python",
   "pygments_lexer": "ipython3",
   "version": "3.9.12"
  },
  "orig_nbformat": 4
 },
 "nbformat": 4,
 "nbformat_minor": 2
}
